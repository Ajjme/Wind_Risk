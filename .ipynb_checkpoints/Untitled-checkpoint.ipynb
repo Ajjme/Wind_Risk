{
 "cells": [
  {
   "cell_type": "code",
   "execution_count": null,
   "id": "d44f83b8-b9a1-46b7-9b0b-8566455ba51c",
   "metadata": {},
   "outputs": [],
   "source": [
    "import pandas as pd\n",
    "data = {\n",
    "    \"RCP\": [\"RCP 2.6\", \"RCP 4.5\", \"RCP 8.5\"],\n",
    "    \"10 Year Return Period\": [115, 118, 122],  # Wind speeds in mph\n",
    "    \"20 Year Return Period\": [120, 122, 128],\n",
    "    \"50 Year Return Period\": [125, 128, 135],\n",
    "    \"100 Year Return Period\": [130, 135, 144],\n",
    "    \"500 Year Return Period\": [138, 144, 150],\n",
    "}\n",
    "\n",
    "# Create the DataFrame\n",
    "wind_speed_df = pd.DataFrame(data)\n",
    "\n",
    "# Display the DataFrame\n",
    "wind_speed_df"
   ]
  },
  {
   "cell_type": "code",
   "execution_count": null,
   "id": "04c4130e-d18a-4c0a-ab35-8d28f4411e8a",
   "metadata": {},
   "outputs": [],
   "source": []
  }
 ],
 "metadata": {
  "kernelspec": {
   "display_name": "Python 3",
   "language": "python",
   "name": "python3"
  },
  "language_info": {
   "codemirror_mode": {
    "name": "ipython",
    "version": 3
   },
   "file_extension": ".py",
   "mimetype": "text/x-python",
   "name": "python",
   "nbconvert_exporter": "python",
   "pygments_lexer": "ipython3",
   "version": "3.8.8"
  }
 },
 "nbformat": 4,
 "nbformat_minor": 5
}
